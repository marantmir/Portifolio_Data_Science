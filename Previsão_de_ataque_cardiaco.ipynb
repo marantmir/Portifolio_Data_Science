{
  "cells": [
    {
      "cell_type": "markdown",
      "metadata": {
        "id": "view-in-github",
        "colab_type": "text"
      },
      "source": [
        "<a href=\"https://colab.research.google.com/github/marcoosnt1/Portifolio_Data_Science/blob/main/Previs%C3%A3o_de_ataque_cardiaco.ipynb\" target=\"_parent\"><img src=\"https://colab.research.google.com/assets/colab-badge.svg\" alt=\"Open In Colab\"/></a>"
      ]
    },
    {
      "cell_type": "code",
      "execution_count": null,
      "id": "fb2bf636",
      "metadata": {
        "id": "fb2bf636"
      },
      "outputs": [],
      "source": [
        "import pandas as pd \n",
        "import numpy as np\n",
        "import seaborn as sns\n",
        "import matplotlib.pyplot as plt \n",
        "%matplotlib inline "
      ]
    },
    {
      "cell_type": "code",
      "execution_count": null,
      "id": "f495503f",
      "metadata": {
        "id": "f495503f"
      },
      "outputs": [],
      "source": [
        "df= pd.read_csv('heart.csv')"
      ]
    },
    {
      "cell_type": "code",
      "execution_count": null,
      "id": "e4981bf1",
      "metadata": {
        "id": "e4981bf1"
      },
      "outputs": [],
      "source": [
        "df= df.drop(['oldpeak','slp','thall'],axis=1)"
      ]
    },
    {
      "cell_type": "markdown",
      "id": "c9cc85f9",
      "metadata": {
        "id": "c9cc85f9"
      },
      "source": [
        "## Analise exploratória dos dados "
      ]
    },
    {
      "cell_type": "code",
      "execution_count": null,
      "id": "deaf0c9c",
      "metadata": {
        "id": "deaf0c9c",
        "outputId": "f5a3e68a-4cef-462c-e6d6-328f1db43886"
      },
      "outputs": [
        {
          "data": {
            "text/html": [
              "<div>\n",
              "<style scoped>\n",
              "    .dataframe tbody tr th:only-of-type {\n",
              "        vertical-align: middle;\n",
              "    }\n",
              "\n",
              "    .dataframe tbody tr th {\n",
              "        vertical-align: top;\n",
              "    }\n",
              "\n",
              "    .dataframe thead th {\n",
              "        text-align: right;\n",
              "    }\n",
              "</style>\n",
              "<table border=\"1\" class=\"dataframe\">\n",
              "  <thead>\n",
              "    <tr style=\"text-align: right;\">\n",
              "      <th></th>\n",
              "      <th>age</th>\n",
              "      <th>sex</th>\n",
              "      <th>cp</th>\n",
              "      <th>trtbps</th>\n",
              "      <th>chol</th>\n",
              "      <th>fbs</th>\n",
              "      <th>restecg</th>\n",
              "      <th>thalachh</th>\n",
              "      <th>exng</th>\n",
              "      <th>caa</th>\n",
              "      <th>output</th>\n",
              "    </tr>\n",
              "  </thead>\n",
              "  <tbody>\n",
              "    <tr>\n",
              "      <th>0</th>\n",
              "      <td>63</td>\n",
              "      <td>1</td>\n",
              "      <td>3</td>\n",
              "      <td>145</td>\n",
              "      <td>233</td>\n",
              "      <td>1</td>\n",
              "      <td>0</td>\n",
              "      <td>150</td>\n",
              "      <td>0</td>\n",
              "      <td>0</td>\n",
              "      <td>1</td>\n",
              "    </tr>\n",
              "    <tr>\n",
              "      <th>1</th>\n",
              "      <td>37</td>\n",
              "      <td>1</td>\n",
              "      <td>2</td>\n",
              "      <td>130</td>\n",
              "      <td>250</td>\n",
              "      <td>0</td>\n",
              "      <td>1</td>\n",
              "      <td>187</td>\n",
              "      <td>0</td>\n",
              "      <td>0</td>\n",
              "      <td>1</td>\n",
              "    </tr>\n",
              "    <tr>\n",
              "      <th>2</th>\n",
              "      <td>41</td>\n",
              "      <td>0</td>\n",
              "      <td>1</td>\n",
              "      <td>130</td>\n",
              "      <td>204</td>\n",
              "      <td>0</td>\n",
              "      <td>0</td>\n",
              "      <td>172</td>\n",
              "      <td>0</td>\n",
              "      <td>0</td>\n",
              "      <td>1</td>\n",
              "    </tr>\n",
              "    <tr>\n",
              "      <th>3</th>\n",
              "      <td>56</td>\n",
              "      <td>1</td>\n",
              "      <td>1</td>\n",
              "      <td>120</td>\n",
              "      <td>236</td>\n",
              "      <td>0</td>\n",
              "      <td>1</td>\n",
              "      <td>178</td>\n",
              "      <td>0</td>\n",
              "      <td>0</td>\n",
              "      <td>1</td>\n",
              "    </tr>\n",
              "    <tr>\n",
              "      <th>4</th>\n",
              "      <td>57</td>\n",
              "      <td>0</td>\n",
              "      <td>0</td>\n",
              "      <td>120</td>\n",
              "      <td>354</td>\n",
              "      <td>0</td>\n",
              "      <td>1</td>\n",
              "      <td>163</td>\n",
              "      <td>1</td>\n",
              "      <td>0</td>\n",
              "      <td>1</td>\n",
              "    </tr>\n",
              "  </tbody>\n",
              "</table>\n",
              "</div>"
            ],
            "text/plain": [
              "   age  sex  cp  trtbps  chol  fbs  restecg  thalachh  exng  caa  output\n",
              "0   63    1   3     145   233    1        0       150     0    0       1\n",
              "1   37    1   2     130   250    0        1       187     0    0       1\n",
              "2   41    0   1     130   204    0        0       172     0    0       1\n",
              "3   56    1   1     120   236    0        1       178     0    0       1\n",
              "4   57    0   0     120   354    0        1       163     1    0       1"
            ]
          },
          "execution_count": 15,
          "metadata": {},
          "output_type": "execute_result"
        }
      ],
      "source": [
        "df.head()"
      ]
    },
    {
      "cell_type": "markdown",
      "id": "8fc23d72",
      "metadata": {
        "id": "8fc23d72"
      },
      "source": [
        "Age: idade do paciente\n",
        "\n",
        "Sex: Sexo\n",
        "\n",
        "Exang: Exercise induced angina.\n",
        "\n",
        "CA: numero de vasos sanguineos maiores.(0-3)\n",
        "\n",
        "Cp: tipo de dor de cabeça. \n",
        "    * Value 0: Angina tipica\n",
        "    * Value 1: Atipica \n",
        "    * Value 2: Dor não anginal\n",
        "    * value 3: assintomatico.\n",
        "\n",
        "Trbps: Pressão sanguinea em descanso. \n",
        "\n",
        "Chol: colesterol in ma/dl coletado via sensor BMI\n",
        "\n",
        "fbs:(pressão sanguinea rapida > 120mg/dll)(1=verdadeiro 0=falso)\n",
        "\n",
        "rest_ecg: resultado do grafico eletro cardiaco em descanso\n",
        "\n",
        "talach: batimentos cardiacos maximos alcançados.\n",
        "\n",
        "target: 0= menor chance de ataque cardiaco 1= mais chances de ter ataque cardiaco"
      ]
    },
    {
      "cell_type": "code",
      "execution_count": null,
      "id": "2e9f6ee0",
      "metadata": {
        "id": "2e9f6ee0",
        "outputId": "b886ec3e-da37-4bd9-be2b-f274ae233341"
      },
      "outputs": [
        {
          "data": {
            "text/html": [
              "<div>\n",
              "<style scoped>\n",
              "    .dataframe tbody tr th:only-of-type {\n",
              "        vertical-align: middle;\n",
              "    }\n",
              "\n",
              "    .dataframe tbody tr th {\n",
              "        vertical-align: top;\n",
              "    }\n",
              "\n",
              "    .dataframe thead th {\n",
              "        text-align: right;\n",
              "    }\n",
              "</style>\n",
              "<table border=\"1\" class=\"dataframe\">\n",
              "  <thead>\n",
              "    <tr style=\"text-align: right;\">\n",
              "      <th></th>\n",
              "      <th>age</th>\n",
              "      <th>sex</th>\n",
              "      <th>cp</th>\n",
              "      <th>trtbps</th>\n",
              "      <th>chol</th>\n",
              "      <th>fbs</th>\n",
              "      <th>restecg</th>\n",
              "      <th>thalachh</th>\n",
              "      <th>exng</th>\n",
              "      <th>caa</th>\n",
              "      <th>output</th>\n",
              "    </tr>\n",
              "  </thead>\n",
              "  <tbody>\n",
              "    <tr>\n",
              "      <th>0</th>\n",
              "      <td>63</td>\n",
              "      <td>1</td>\n",
              "      <td>3</td>\n",
              "      <td>145</td>\n",
              "      <td>233</td>\n",
              "      <td>1</td>\n",
              "      <td>0</td>\n",
              "      <td>150</td>\n",
              "      <td>0</td>\n",
              "      <td>0</td>\n",
              "      <td>1</td>\n",
              "    </tr>\n",
              "    <tr>\n",
              "      <th>1</th>\n",
              "      <td>37</td>\n",
              "      <td>1</td>\n",
              "      <td>2</td>\n",
              "      <td>130</td>\n",
              "      <td>250</td>\n",
              "      <td>0</td>\n",
              "      <td>1</td>\n",
              "      <td>187</td>\n",
              "      <td>0</td>\n",
              "      <td>0</td>\n",
              "      <td>1</td>\n",
              "    </tr>\n",
              "    <tr>\n",
              "      <th>2</th>\n",
              "      <td>41</td>\n",
              "      <td>0</td>\n",
              "      <td>1</td>\n",
              "      <td>130</td>\n",
              "      <td>204</td>\n",
              "      <td>0</td>\n",
              "      <td>0</td>\n",
              "      <td>172</td>\n",
              "      <td>0</td>\n",
              "      <td>0</td>\n",
              "      <td>1</td>\n",
              "    </tr>\n",
              "    <tr>\n",
              "      <th>3</th>\n",
              "      <td>56</td>\n",
              "      <td>1</td>\n",
              "      <td>1</td>\n",
              "      <td>120</td>\n",
              "      <td>236</td>\n",
              "      <td>0</td>\n",
              "      <td>1</td>\n",
              "      <td>178</td>\n",
              "      <td>0</td>\n",
              "      <td>0</td>\n",
              "      <td>1</td>\n",
              "    </tr>\n",
              "    <tr>\n",
              "      <th>4</th>\n",
              "      <td>57</td>\n",
              "      <td>0</td>\n",
              "      <td>0</td>\n",
              "      <td>120</td>\n",
              "      <td>354</td>\n",
              "      <td>0</td>\n",
              "      <td>1</td>\n",
              "      <td>163</td>\n",
              "      <td>1</td>\n",
              "      <td>0</td>\n",
              "      <td>1</td>\n",
              "    </tr>\n",
              "  </tbody>\n",
              "</table>\n",
              "</div>"
            ],
            "text/plain": [
              "   age  sex  cp  trtbps  chol  fbs  restecg  thalachh  exng  caa  output\n",
              "0   63    1   3     145   233    1        0       150     0    0       1\n",
              "1   37    1   2     130   250    0        1       187     0    0       1\n",
              "2   41    0   1     130   204    0        0       172     0    0       1\n",
              "3   56    1   1     120   236    0        1       178     0    0       1\n",
              "4   57    0   0     120   354    0        1       163     1    0       1"
            ]
          },
          "execution_count": 9,
          "metadata": {},
          "output_type": "execute_result"
        }
      ],
      "source": [
        "df.head()"
      ]
    },
    {
      "cell_type": "code",
      "execution_count": null,
      "id": "d88aa125",
      "metadata": {
        "id": "d88aa125",
        "outputId": "98ad246d-9710-45e0-b313-ad114d7bafd3"
      },
      "outputs": [
        {
          "data": {
            "text/plain": [
              "age         0\n",
              "sex         0\n",
              "cp          0\n",
              "trtbps      0\n",
              "chol        0\n",
              "fbs         0\n",
              "restecg     0\n",
              "thalachh    0\n",
              "exng        0\n",
              "oldpeak     0\n",
              "slp         0\n",
              "caa         0\n",
              "thall       0\n",
              "output      0\n",
              "dtype: int64"
            ]
          },
          "execution_count": 6,
          "metadata": {},
          "output_type": "execute_result"
        }
      ],
      "source": [
        "df.isnull().sum()"
      ]
    },
    {
      "cell_type": "code",
      "execution_count": null,
      "id": "2746a357",
      "metadata": {
        "id": "2746a357",
        "outputId": "bbc0a3c6-42e1-4e51-b69f-c3b9f5ce757f"
      },
      "outputs": [
        {
          "data": {
            "text/plain": [
              "(303, 11)"
            ]
          },
          "execution_count": 11,
          "metadata": {},
          "output_type": "execute_result"
        }
      ],
      "source": [
        "df.shape"
      ]
    },
    {
      "cell_type": "code",
      "execution_count": null,
      "id": "17569e42",
      "metadata": {
        "id": "17569e42",
        "outputId": "778b301a-d23b-475e-ced3-cb7b970d1b29"
      },
      "outputs": [
        {
          "data": {
            "text/html": [
              "<div>\n",
              "<style scoped>\n",
              "    .dataframe tbody tr th:only-of-type {\n",
              "        vertical-align: middle;\n",
              "    }\n",
              "\n",
              "    .dataframe tbody tr th {\n",
              "        vertical-align: top;\n",
              "    }\n",
              "\n",
              "    .dataframe thead th {\n",
              "        text-align: right;\n",
              "    }\n",
              "</style>\n",
              "<table border=\"1\" class=\"dataframe\">\n",
              "  <thead>\n",
              "    <tr style=\"text-align: right;\">\n",
              "      <th></th>\n",
              "      <th>age</th>\n",
              "      <th>sex</th>\n",
              "      <th>cp</th>\n",
              "      <th>trtbps</th>\n",
              "      <th>chol</th>\n",
              "      <th>fbs</th>\n",
              "      <th>restecg</th>\n",
              "      <th>thalachh</th>\n",
              "      <th>exng</th>\n",
              "      <th>caa</th>\n",
              "      <th>output</th>\n",
              "    </tr>\n",
              "  </thead>\n",
              "  <tbody>\n",
              "    <tr>\n",
              "      <th>age</th>\n",
              "      <td>1.000000</td>\n",
              "      <td>-0.098447</td>\n",
              "      <td>-0.068653</td>\n",
              "      <td>0.279351</td>\n",
              "      <td>0.213678</td>\n",
              "      <td>0.121308</td>\n",
              "      <td>-0.116211</td>\n",
              "      <td>-0.398522</td>\n",
              "      <td>0.096801</td>\n",
              "      <td>0.276326</td>\n",
              "      <td>-0.225439</td>\n",
              "    </tr>\n",
              "    <tr>\n",
              "      <th>sex</th>\n",
              "      <td>-0.098447</td>\n",
              "      <td>1.000000</td>\n",
              "      <td>-0.049353</td>\n",
              "      <td>-0.056769</td>\n",
              "      <td>-0.197912</td>\n",
              "      <td>0.045032</td>\n",
              "      <td>-0.058196</td>\n",
              "      <td>-0.044020</td>\n",
              "      <td>0.141664</td>\n",
              "      <td>0.118261</td>\n",
              "      <td>-0.280937</td>\n",
              "    </tr>\n",
              "    <tr>\n",
              "      <th>cp</th>\n",
              "      <td>-0.068653</td>\n",
              "      <td>-0.049353</td>\n",
              "      <td>1.000000</td>\n",
              "      <td>0.047608</td>\n",
              "      <td>-0.076904</td>\n",
              "      <td>0.094444</td>\n",
              "      <td>0.044421</td>\n",
              "      <td>0.295762</td>\n",
              "      <td>-0.394280</td>\n",
              "      <td>-0.181053</td>\n",
              "      <td>0.433798</td>\n",
              "    </tr>\n",
              "    <tr>\n",
              "      <th>trtbps</th>\n",
              "      <td>0.279351</td>\n",
              "      <td>-0.056769</td>\n",
              "      <td>0.047608</td>\n",
              "      <td>1.000000</td>\n",
              "      <td>0.123174</td>\n",
              "      <td>0.177531</td>\n",
              "      <td>-0.114103</td>\n",
              "      <td>-0.046698</td>\n",
              "      <td>0.067616</td>\n",
              "      <td>0.101389</td>\n",
              "      <td>-0.144931</td>\n",
              "    </tr>\n",
              "    <tr>\n",
              "      <th>chol</th>\n",
              "      <td>0.213678</td>\n",
              "      <td>-0.197912</td>\n",
              "      <td>-0.076904</td>\n",
              "      <td>0.123174</td>\n",
              "      <td>1.000000</td>\n",
              "      <td>0.013294</td>\n",
              "      <td>-0.151040</td>\n",
              "      <td>-0.009940</td>\n",
              "      <td>0.067023</td>\n",
              "      <td>0.070511</td>\n",
              "      <td>-0.085239</td>\n",
              "    </tr>\n",
              "    <tr>\n",
              "      <th>fbs</th>\n",
              "      <td>0.121308</td>\n",
              "      <td>0.045032</td>\n",
              "      <td>0.094444</td>\n",
              "      <td>0.177531</td>\n",
              "      <td>0.013294</td>\n",
              "      <td>1.000000</td>\n",
              "      <td>-0.084189</td>\n",
              "      <td>-0.008567</td>\n",
              "      <td>0.025665</td>\n",
              "      <td>0.137979</td>\n",
              "      <td>-0.028046</td>\n",
              "    </tr>\n",
              "    <tr>\n",
              "      <th>restecg</th>\n",
              "      <td>-0.116211</td>\n",
              "      <td>-0.058196</td>\n",
              "      <td>0.044421</td>\n",
              "      <td>-0.114103</td>\n",
              "      <td>-0.151040</td>\n",
              "      <td>-0.084189</td>\n",
              "      <td>1.000000</td>\n",
              "      <td>0.044123</td>\n",
              "      <td>-0.070733</td>\n",
              "      <td>-0.072042</td>\n",
              "      <td>0.137230</td>\n",
              "    </tr>\n",
              "    <tr>\n",
              "      <th>thalachh</th>\n",
              "      <td>-0.398522</td>\n",
              "      <td>-0.044020</td>\n",
              "      <td>0.295762</td>\n",
              "      <td>-0.046698</td>\n",
              "      <td>-0.009940</td>\n",
              "      <td>-0.008567</td>\n",
              "      <td>0.044123</td>\n",
              "      <td>1.000000</td>\n",
              "      <td>-0.378812</td>\n",
              "      <td>-0.213177</td>\n",
              "      <td>0.421741</td>\n",
              "    </tr>\n",
              "    <tr>\n",
              "      <th>exng</th>\n",
              "      <td>0.096801</td>\n",
              "      <td>0.141664</td>\n",
              "      <td>-0.394280</td>\n",
              "      <td>0.067616</td>\n",
              "      <td>0.067023</td>\n",
              "      <td>0.025665</td>\n",
              "      <td>-0.070733</td>\n",
              "      <td>-0.378812</td>\n",
              "      <td>1.000000</td>\n",
              "      <td>0.115739</td>\n",
              "      <td>-0.436757</td>\n",
              "    </tr>\n",
              "    <tr>\n",
              "      <th>caa</th>\n",
              "      <td>0.276326</td>\n",
              "      <td>0.118261</td>\n",
              "      <td>-0.181053</td>\n",
              "      <td>0.101389</td>\n",
              "      <td>0.070511</td>\n",
              "      <td>0.137979</td>\n",
              "      <td>-0.072042</td>\n",
              "      <td>-0.213177</td>\n",
              "      <td>0.115739</td>\n",
              "      <td>1.000000</td>\n",
              "      <td>-0.391724</td>\n",
              "    </tr>\n",
              "    <tr>\n",
              "      <th>output</th>\n",
              "      <td>-0.225439</td>\n",
              "      <td>-0.280937</td>\n",
              "      <td>0.433798</td>\n",
              "      <td>-0.144931</td>\n",
              "      <td>-0.085239</td>\n",
              "      <td>-0.028046</td>\n",
              "      <td>0.137230</td>\n",
              "      <td>0.421741</td>\n",
              "      <td>-0.436757</td>\n",
              "      <td>-0.391724</td>\n",
              "      <td>1.000000</td>\n",
              "    </tr>\n",
              "  </tbody>\n",
              "</table>\n",
              "</div>"
            ],
            "text/plain": [
              "               age       sex        cp    trtbps      chol       fbs  \\\n",
              "age       1.000000 -0.098447 -0.068653  0.279351  0.213678  0.121308   \n",
              "sex      -0.098447  1.000000 -0.049353 -0.056769 -0.197912  0.045032   \n",
              "cp       -0.068653 -0.049353  1.000000  0.047608 -0.076904  0.094444   \n",
              "trtbps    0.279351 -0.056769  0.047608  1.000000  0.123174  0.177531   \n",
              "chol      0.213678 -0.197912 -0.076904  0.123174  1.000000  0.013294   \n",
              "fbs       0.121308  0.045032  0.094444  0.177531  0.013294  1.000000   \n",
              "restecg  -0.116211 -0.058196  0.044421 -0.114103 -0.151040 -0.084189   \n",
              "thalachh -0.398522 -0.044020  0.295762 -0.046698 -0.009940 -0.008567   \n",
              "exng      0.096801  0.141664 -0.394280  0.067616  0.067023  0.025665   \n",
              "caa       0.276326  0.118261 -0.181053  0.101389  0.070511  0.137979   \n",
              "output   -0.225439 -0.280937  0.433798 -0.144931 -0.085239 -0.028046   \n",
              "\n",
              "           restecg  thalachh      exng       caa    output  \n",
              "age      -0.116211 -0.398522  0.096801  0.276326 -0.225439  \n",
              "sex      -0.058196 -0.044020  0.141664  0.118261 -0.280937  \n",
              "cp        0.044421  0.295762 -0.394280 -0.181053  0.433798  \n",
              "trtbps   -0.114103 -0.046698  0.067616  0.101389 -0.144931  \n",
              "chol     -0.151040 -0.009940  0.067023  0.070511 -0.085239  \n",
              "fbs      -0.084189 -0.008567  0.025665  0.137979 -0.028046  \n",
              "restecg   1.000000  0.044123 -0.070733 -0.072042  0.137230  \n",
              "thalachh  0.044123  1.000000 -0.378812 -0.213177  0.421741  \n",
              "exng     -0.070733 -0.378812  1.000000  0.115739 -0.436757  \n",
              "caa      -0.072042 -0.213177  0.115739  1.000000 -0.391724  \n",
              "output    0.137230  0.421741 -0.436757 -0.391724  1.000000  "
            ]
          },
          "execution_count": 12,
          "metadata": {},
          "output_type": "execute_result"
        }
      ],
      "source": [
        "#visualizando grafico de correlação\n",
        "df.corr()"
      ]
    },
    {
      "cell_type": "code",
      "execution_count": null,
      "id": "ce6af4d9",
      "metadata": {
        "id": "ce6af4d9",
        "outputId": "2be3fbde-fa5c-4f58-b2d9-0088181631cd"
      },
      "outputs": [
        {
          "data": {
            "text/plain": [
              "<AxesSubplot:>"
            ]
          },
          "execution_count": 20,
          "metadata": {},
          "output_type": "execute_result"
        },
        {
          "data": {
            "image/png": "[encoded data removed]",
            "text/plain": [
              "<Figure size 1080x576 with 2 Axes>"
            ]
          },
          "metadata": {
            "needs_background": "light"
          },
          "output_type": "display_data"
        }
      ],
      "source": [
        "plt.subplots(figsize=(15, 8))\n",
        "sns.heatmap(df.corr(),annot=True)"
      ]
    },
    {
      "cell_type": "markdown",
      "id": "9bac8bba",
      "metadata": {
        "id": "9bac8bba"
      },
      "source": [
        "Como visto na visualição dos  heatmap os dados não estão altamente correlacionados uns com ons outros."
      ]
    },
    {
      "cell_type": "code",
      "execution_count": null,
      "id": "d1dc5943",
      "metadata": {
        "id": "d1dc5943",
        "outputId": "8f68099e-ea47-49ad-8ed3-6f5a20416f7c"
      },
      "outputs": [
        {
          "data": {
            "text/plain": [
              "<AxesSubplot:title={'center':'Idade dos pacientes'}, xlabel='age', ylabel='count'>"
            ]
          },
          "execution_count": 21,
          "metadata": {},
          "output_type": "execute_result"
        },
        {
          "data": {
            "image/png": "[encoded data removed]",
            "text/plain": [
              "<Figure size 1440x720 with 1 Axes>"
            ]
          },
          "metadata": {
            "needs_background": "light"
          },
          "output_type": "display_data"
        }
      ],
      "source": [
        "plt.figure(figsize=(20,10))\n",
        "plt.title('Idade dos pacientes')\n",
        "sns.countplot(x='age',data=df)"
      ]
    },
    {
      "cell_type": "markdown",
      "id": "d1667dd7",
      "metadata": {
        "id": "d1667dd7"
      },
      "source": [
        "Após essa analise notamos que a maioria dos nossos pacientes possuem entre 40 e 67 anos. \n",
        "Sendo que a idade mais alta é 57 anos, com 17 pessoas."
      ]
    },
    {
      "cell_type": "code",
      "execution_count": null,
      "id": "c8466f90",
      "metadata": {
        "id": "c8466f90",
        "outputId": "dbfbf8ed-849e-4d2f-c135-d0f38be6b02d"
      },
      "outputs": [
        {
          "data": {
            "text/plain": [
              "<AxesSubplot:title={'center':'Sexo dos pacientes, 0= Mulher, 1= Homem'}, xlabel='sex', ylabel='count'>"
            ]
          },
          "execution_count": 23,
          "metadata": {},
          "output_type": "execute_result"
        },
        {
          "data": {
            "image/png": "[encoded data removed]",
            "text/plain": [
              "<Figure size 1440x720 with 1 Axes>"
            ]
          },
          "metadata": {
            "needs_background": "light"
          },
          "output_type": "display_data"
        }
      ],
      "source": [
        "plt.figure(figsize=(20,10))\n",
        "plt.title('Sexo dos pacientes, 0= Mulher, 1= Homem')\n",
        "sns.countplot(x='sex',data=df)"
      ]
    },
    {
      "cell_type": "markdown",
      "id": "38512d2d",
      "metadata": {
        "id": "38512d2d"
      },
      "source": [
        "Notamos que a maioria dos pacientes deste dataset é homem(200), sendo apenas 100 mulheres."
      ]
    },
    {
      "cell_type": "code",
      "execution_count": null,
      "id": "32e4afb2",
      "metadata": {
        "id": "32e4afb2",
        "outputId": "f34e90a1-cba5-4d5e-fe72-87cb06642e7d"
      },
      "outputs": [
        {
          "data": {
            "text/html": [
              "<div>\n",
              "<style scoped>\n",
              "    .dataframe tbody tr th:only-of-type {\n",
              "        vertical-align: middle;\n",
              "    }\n",
              "\n",
              "    .dataframe tbody tr th {\n",
              "        vertical-align: top;\n",
              "    }\n",
              "\n",
              "    .dataframe thead th {\n",
              "        text-align: right;\n",
              "    }\n",
              "</style>\n",
              "<table border=\"1\" class=\"dataframe\">\n",
              "  <thead>\n",
              "    <tr style=\"text-align: right;\">\n",
              "      <th></th>\n",
              "      <th>index</th>\n",
              "      <th>cp</th>\n",
              "    </tr>\n",
              "  </thead>\n",
              "  <tbody>\n",
              "    <tr>\n",
              "      <th>0</th>\n",
              "      <td>Tipica angina</td>\n",
              "      <td>143</td>\n",
              "    </tr>\n",
              "    <tr>\n",
              "      <th>1</th>\n",
              "      <td>Angina atipica</td>\n",
              "      <td>87</td>\n",
              "    </tr>\n",
              "    <tr>\n",
              "      <th>2</th>\n",
              "      <td>Não anginal</td>\n",
              "      <td>50</td>\n",
              "    </tr>\n",
              "    <tr>\n",
              "      <th>3</th>\n",
              "      <td>Assintomatico</td>\n",
              "      <td>23</td>\n",
              "    </tr>\n",
              "  </tbody>\n",
              "</table>\n",
              "</div>"
            ],
            "text/plain": [
              "            index   cp\n",
              "0   Tipica angina  143\n",
              "1  Angina atipica   87\n",
              "2     Não anginal   50\n",
              "3   Assintomatico   23"
            ]
          },
          "execution_count": 30,
          "metadata": {},
          "output_type": "execute_result"
        }
      ],
      "source": [
        "cp_data=df['cp'].value_counts().reset_index()\n",
        "cp_data['index'][3]='Assintomatico'\n",
        "cp_data['index'][2]='Não anginal'\n",
        "cp_data['index'][1]='Angina atipica'\n",
        "cp_data['index'][0]='Tipica angina'\n",
        "cp_data"
      ]
    },
    {
      "cell_type": "code",
      "execution_count": null,
      "id": "f1d0f88c",
      "metadata": {
        "id": "f1d0f88c",
        "outputId": "55b346ce-f936-4b13-cecb-b489f036b72b"
      },
      "outputs": [
        {
          "data": {
            "text/plain": [
              "<AxesSubplot:title={'center':'Distribuição dos tipos de Dor de cabeça por paciente'}, xlabel='index', ylabel='cp'>"
            ]
          },
          "execution_count": 36,
          "metadata": {},
          "output_type": "execute_result"
        },
        {
          "data": {
            "image/png": "[encoded data removed]",
            "text/plain": [
              "<Figure size 1440x720 with 1 Axes>"
            ]
          },
          "metadata": {
            "needs_background": "light"
          },
          "output_type": "display_data"
        }
      ],
      "source": [
        "plt.figure(figsize=(20,10))\n",
        "plt.title('Distribuição dos tipos de Dor de cabeça por paciente')\n",
        "sns.barplot(x=cp_data['index'],y=cp_data['cp'])"
      ]
    },
    {
      "cell_type": "markdown",
      "id": "0b7102f9",
      "metadata": {
        "id": "0b7102f9"
      },
      "source": [
        "Agora irei visualizar como a variavel Chest pain category é distribuida."
      ]
    },
    {
      "cell_type": "code",
      "execution_count": null,
      "id": "fe41be0b",
      "metadata": {
        "id": "fe41be0b",
        "outputId": "e4deff39-4762-442e-ec02-5c963701e739"
      },
      "outputs": [
        {
          "data": {
            "text/html": [
              "<div>\n",
              "<style scoped>\n",
              "    .dataframe tbody tr th:only-of-type {\n",
              "        vertical-align: middle;\n",
              "    }\n",
              "\n",
              "    .dataframe tbody tr th {\n",
              "        vertical-align: top;\n",
              "    }\n",
              "\n",
              "    .dataframe thead th {\n",
              "        text-align: right;\n",
              "    }\n",
              "</style>\n",
              "<table border=\"1\" class=\"dataframe\">\n",
              "  <thead>\n",
              "    <tr style=\"text-align: right;\">\n",
              "      <th></th>\n",
              "      <th>index</th>\n",
              "      <th>restecg</th>\n",
              "    </tr>\n",
              "  </thead>\n",
              "  <tbody>\n",
              "    <tr>\n",
              "      <th>0</th>\n",
              "      <td>normal</td>\n",
              "      <td>152</td>\n",
              "    </tr>\n",
              "    <tr>\n",
              "      <th>1</th>\n",
              "      <td>Tem ondas st.t anormais</td>\n",
              "      <td>147</td>\n",
              "    </tr>\n",
              "    <tr>\n",
              "      <th>2</th>\n",
              "      <td>Demonstra uma provavel ou definitiva hipertrof...</td>\n",
              "      <td>4</td>\n",
              "    </tr>\n",
              "  </tbody>\n",
              "</table>\n",
              "</div>"
            ],
            "text/plain": [
              "                                               index  restecg\n",
              "0                                             normal      152\n",
              "1                            Tem ondas st.t anormais      147\n",
              "2  Demonstra uma provavel ou definitiva hipertrof...        4"
            ]
          },
          "execution_count": 37,
          "metadata": {},
          "output_type": "execute_result"
        }
      ],
      "source": [
        "ecg_data=df['restecg'].value_counts().reset_index()\n",
        "ecg_data['index'][0]='normal'\n",
        "ecg_data['index'][1]='Tem ondas st.t anormais'\n",
        "ecg_data['index'][2]='Demonstra uma provavel ou definitiva hipertrofia ventricular esquerda'\n",
        "ecg_data"
      ]
    },
    {
      "cell_type": "code",
      "execution_count": null,
      "id": "1525cd49",
      "metadata": {
        "id": "1525cd49",
        "outputId": "c8e1530c-2229-4833-9d39-34ab629c25bd"
      },
      "outputs": [
        {
          "data": {
            "text/plain": [
              "<AxesSubplot:title={'center':'Dados ecg dos pacientes:'}, xlabel='index', ylabel='restecg'>"
            ]
          },
          "execution_count": 39,
          "metadata": {},
          "output_type": "execute_result"
        },
        {
          "data": {
            "image/png": "[encoded data removed]",
            "text/plain": [
              "<Figure size 1440x720 with 1 Axes>"
            ]
          },
          "metadata": {
            "needs_background": "light"
          },
          "output_type": "display_data"
        }
      ],
      "source": [
        "plt.figure(figsize=(20,10))\n",
        "plt.title('Dados ecg dos pacientes:')\n",
        "sns.barplot(x=ecg_data['index'],y=ecg_data['restecg'])"
      ]
    },
    {
      "cell_type": "code",
      "execution_count": null,
      "id": "076c42b5",
      "metadata": {
        "id": "076c42b5"
      },
      "outputs": [],
      "source": [
        "##sns.pairplot(df,hue='output',data=df) "
      ]
    },
    {
      "cell_type": "code",
      "execution_count": null,
      "id": "74729b75",
      "metadata": {
        "id": "74729b75",
        "outputId": "5422af1d-028d-4ff0-8792-87b9fa7d4ee2"
      },
      "outputs": [
        {
          "name": "stderr",
          "output_type": "stream",
          "text": [
            "C:\\Users\\marco\\anaconda3\\lib\\site-packages\\seaborn\\distributions.py:2619: FutureWarning: `distplot` is a deprecated function and will be removed in a future version. Please adapt your code to use either `displot` (a figure-level function with similar flexibility) or `histplot` (an axes-level function for histograms).\n",
            "  warnings.warn(msg, FutureWarning)\n",
            "C:\\Users\\marco\\anaconda3\\lib\\site-packages\\seaborn\\distributions.py:2619: FutureWarning: `distplot` is a deprecated function and will be removed in a future version. Please adapt your code to use either `displot` (a figure-level function with similar flexibility) or `histplot` (an axes-level function for histograms).\n",
            "  warnings.warn(msg, FutureWarning)\n"
          ]
        },
        {
          "data": {
            "text/plain": [
              "Text(0.5, 0, 'Batimentos cardiacos maximos.')"
            ]
          },
          "execution_count": 40,
          "metadata": {},
          "output_type": "execute_result"
        },
        {
          "data": {
            "image/png": "[encoded data removed]",
            "text/plain": [
              "<Figure size 1440x720 with 2 Axes>"
            ]
          },
          "metadata": {
            "needs_background": "light"
          },
          "output_type": "display_data"
        }
      ],
      "source": [
        "## distribuição das variaveis continuas\n",
        "plt.figure(figsize=(20,10))\n",
        "plt.subplot(1,2,1)\n",
        "sns.distplot(df['trtbps'],kde=True,color='magenta')\n",
        "plt.xlabel('Pressão sanguinea em descanso')\n",
        "plt.subplot(1,2,2)\n",
        "sns.distplot(df['thalachh'],kde=True,color='teal')\n",
        "plt.xlabel('Batimentos cardiacos maximos.')"
      ]
    },
    {
      "cell_type": "markdown",
      "id": "72ade582",
      "metadata": {
        "id": "72ade582"
      },
      "source": [
        "Ao verificarmos a distribuição das variaveis trtbps, e thalatchh notamos que ambas possuem distribuição normal dos residuos."
      ]
    },
    {
      "cell_type": "code",
      "execution_count": null,
      "id": "0e77d8e4",
      "metadata": {
        "id": "0e77d8e4",
        "outputId": "0c711b24-4fde-45ac-94f7-7a57d544d901"
      },
      "outputs": [
        {
          "name": "stderr",
          "output_type": "stream",
          "text": [
            "C:\\Users\\marco\\anaconda3\\lib\\site-packages\\seaborn\\distributions.py:2619: FutureWarning: `distplot` is a deprecated function and will be removed in a future version. Please adapt your code to use either `displot` (a figure-level function with similar flexibility) or `histplot` (an axes-level function for histograms).\n",
            "  warnings.warn(msg, FutureWarning)\n"
          ]
        },
        {
          "data": {
            "text/plain": [
              "Text(0.5, 0, 'colesterol')"
            ]
          },
          "execution_count": 41,
          "metadata": {},
          "output_type": "execute_result"
        },
        {
          "data": {
            "image/png": "[encoded data removed]",
            "text/plain": [
              "<Figure size 1440x720 with 1 Axes>"
            ]
          },
          "metadata": {
            "needs_background": "light"
          },
          "output_type": "display_data"
        }
      ],
      "source": [
        "plt.figure(figsize=(20,10))\n",
        "sns.distplot(df['chol'],kde=True,color='Red')\n",
        "plt.xlabel('colesterol')"
      ]
    },
    {
      "cell_type": "markdown",
      "id": "ed2c6647",
      "metadata": {
        "id": "ed2c6647"
      },
      "source": [
        "Ao checarmos  a normalização da label colesterol, também podemos notar que ela é normalmente distribuida, apesar de alguns residuos existentes."
      ]
    },
    {
      "cell_type": "code",
      "execution_count": null,
      "id": "97c275c7",
      "metadata": {
        "id": "97c275c7"
      },
      "outputs": [],
      "source": [
        ""
      ]
    },
    {
      "cell_type": "markdown",
      "id": "0eb730e6",
      "metadata": {
        "id": "0eb730e6"
      },
      "source": [
        "### Feature Scaling"
      ]
    },
    {
      "cell_type": "code",
      "execution_count": null,
      "id": "f3ab5dbb",
      "metadata": {
        "id": "f3ab5dbb"
      },
      "outputs": [],
      "source": [
        "#aplicando standardisation\n",
        "from sklearn.preprocessing import StandardScaler"
      ]
    },
    {
      "cell_type": "code",
      "execution_count": null,
      "id": "7bd4bab8",
      "metadata": {
        "id": "7bd4bab8"
      },
      "outputs": [],
      "source": [
        "scaler=StandardScaler()"
      ]
    },
    {
      "cell_type": "code",
      "execution_count": null,
      "id": "e5417789",
      "metadata": {
        "id": "e5417789",
        "outputId": "0c3ab9d0-4679-4e0a-abfa-8921b437445f"
      },
      "outputs": [
        {
          "data": {
            "text/plain": [
              "StandardScaler()"
            ]
          },
          "execution_count": 18,
          "metadata": {},
          "output_type": "execute_result"
        }
      ],
      "source": [
        "scaler.fit(df)"
      ]
    },
    {
      "cell_type": "code",
      "execution_count": null,
      "id": "92f59eef",
      "metadata": {
        "id": "92f59eef"
      },
      "outputs": [],
      "source": [
        "df=scaler.transform(df)"
      ]
    },
    {
      "cell_type": "code",
      "execution_count": null,
      "id": "e4719232",
      "metadata": {
        "id": "e4719232"
      },
      "outputs": [],
      "source": [
        "df=pd.DataFrame(df,columns=['age','sex','cp','trtbps','chol','fbs','restecg','thallach','exng','caa','output'])"
      ]
    },
    {
      "cell_type": "code",
      "execution_count": null,
      "id": "eed33850",
      "metadata": {
        "id": "eed33850",
        "outputId": "35a575ca-f637-4399-e77e-0558557656c8"
      },
      "outputs": [
        {
          "data": {
            "text/html": [
              "<div>\n",
              "<style scoped>\n",
              "    .dataframe tbody tr th:only-of-type {\n",
              "        vertical-align: middle;\n",
              "    }\n",
              "\n",
              "    .dataframe tbody tr th {\n",
              "        vertical-align: top;\n",
              "    }\n",
              "\n",
              "    .dataframe thead th {\n",
              "        text-align: right;\n",
              "    }\n",
              "</style>\n",
              "<table border=\"1\" class=\"dataframe\">\n",
              "  <thead>\n",
              "    <tr style=\"text-align: right;\">\n",
              "      <th></th>\n",
              "      <th>age</th>\n",
              "      <th>sex</th>\n",
              "      <th>cp</th>\n",
              "      <th>trtbps</th>\n",
              "      <th>chol</th>\n",
              "      <th>fbs</th>\n",
              "      <th>restecg</th>\n",
              "      <th>thallach</th>\n",
              "      <th>exng</th>\n",
              "      <th>caa</th>\n",
              "      <th>output</th>\n",
              "    </tr>\n",
              "  </thead>\n",
              "  <tbody>\n",
              "    <tr>\n",
              "      <th>0</th>\n",
              "      <td>0.952197</td>\n",
              "      <td>0.681005</td>\n",
              "      <td>1.973123</td>\n",
              "      <td>0.763956</td>\n",
              "      <td>-0.256334</td>\n",
              "      <td>2.394438</td>\n",
              "      <td>-1.005832</td>\n",
              "      <td>0.015443</td>\n",
              "      <td>-0.696631</td>\n",
              "      <td>-0.714429</td>\n",
              "      <td>0.914529</td>\n",
              "    </tr>\n",
              "    <tr>\n",
              "      <th>1</th>\n",
              "      <td>-1.915313</td>\n",
              "      <td>0.681005</td>\n",
              "      <td>1.002577</td>\n",
              "      <td>-0.092738</td>\n",
              "      <td>0.072199</td>\n",
              "      <td>-0.417635</td>\n",
              "      <td>0.898962</td>\n",
              "      <td>1.633471</td>\n",
              "      <td>-0.696631</td>\n",
              "      <td>-0.714429</td>\n",
              "      <td>0.914529</td>\n",
              "    </tr>\n",
              "    <tr>\n",
              "      <th>2</th>\n",
              "      <td>-1.474158</td>\n",
              "      <td>-1.468418</td>\n",
              "      <td>0.032031</td>\n",
              "      <td>-0.092738</td>\n",
              "      <td>-0.816773</td>\n",
              "      <td>-0.417635</td>\n",
              "      <td>-1.005832</td>\n",
              "      <td>0.977514</td>\n",
              "      <td>-0.696631</td>\n",
              "      <td>-0.714429</td>\n",
              "      <td>0.914529</td>\n",
              "    </tr>\n",
              "    <tr>\n",
              "      <th>3</th>\n",
              "      <td>0.180175</td>\n",
              "      <td>0.681005</td>\n",
              "      <td>0.032031</td>\n",
              "      <td>-0.663867</td>\n",
              "      <td>-0.198357</td>\n",
              "      <td>-0.417635</td>\n",
              "      <td>0.898962</td>\n",
              "      <td>1.239897</td>\n",
              "      <td>-0.696631</td>\n",
              "      <td>-0.714429</td>\n",
              "      <td>0.914529</td>\n",
              "    </tr>\n",
              "    <tr>\n",
              "      <th>4</th>\n",
              "      <td>0.290464</td>\n",
              "      <td>-1.468418</td>\n",
              "      <td>-0.938515</td>\n",
              "      <td>-0.663867</td>\n",
              "      <td>2.082050</td>\n",
              "      <td>-0.417635</td>\n",
              "      <td>0.898962</td>\n",
              "      <td>0.583939</td>\n",
              "      <td>1.435481</td>\n",
              "      <td>-0.714429</td>\n",
              "      <td>0.914529</td>\n",
              "    </tr>\n",
              "  </tbody>\n",
              "</table>\n",
              "</div>"
            ],
            "text/plain": [
              "        age       sex        cp    trtbps      chol       fbs   restecg  \\\n",
              "0  0.952197  0.681005  1.973123  0.763956 -0.256334  2.394438 -1.005832   \n",
              "1 -1.915313  0.681005  1.002577 -0.092738  0.072199 -0.417635  0.898962   \n",
              "2 -1.474158 -1.468418  0.032031 -0.092738 -0.816773 -0.417635 -1.005832   \n",
              "3  0.180175  0.681005  0.032031 -0.663867 -0.198357 -0.417635  0.898962   \n",
              "4  0.290464 -1.468418 -0.938515 -0.663867  2.082050 -0.417635  0.898962   \n",
              "\n",
              "   thallach      exng       caa    output  \n",
              "0  0.015443 -0.696631 -0.714429  0.914529  \n",
              "1  1.633471 -0.696631 -0.714429  0.914529  \n",
              "2  0.977514 -0.696631 -0.714429  0.914529  \n",
              "3  1.239897 -0.696631 -0.714429  0.914529  \n",
              "4  0.583939  1.435481 -0.714429  0.914529  "
            ]
          },
          "execution_count": 21,
          "metadata": {},
          "output_type": "execute_result"
        }
      ],
      "source": [
        "df.head()"
      ]
    },
    {
      "cell_type": "markdown",
      "id": "6635481c",
      "metadata": {
        "id": "6635481c"
      },
      "source": [
        "**Separando os dados entre variaveis dependente e independente.**\n"
      ]
    },
    {
      "cell_type": "code",
      "execution_count": null,
      "id": "66399094",
      "metadata": {
        "id": "66399094",
        "outputId": "a1e203a2-394d-4943-e244-5db15be7962e"
      },
      "outputs": [
        {
          "data": {
            "text/html": [
              "<div>\n",
              "<style scoped>\n",
              "    .dataframe tbody tr th:only-of-type {\n",
              "        vertical-align: middle;\n",
              "    }\n",
              "\n",
              "    .dataframe tbody tr th {\n",
              "        vertical-align: top;\n",
              "    }\n",
              "\n",
              "    .dataframe thead th {\n",
              "        text-align: right;\n",
              "    }\n",
              "</style>\n",
              "<table border=\"1\" class=\"dataframe\">\n",
              "  <thead>\n",
              "    <tr style=\"text-align: right;\">\n",
              "      <th></th>\n",
              "      <th>age</th>\n",
              "      <th>sex</th>\n",
              "      <th>cp</th>\n",
              "      <th>trtbps</th>\n",
              "      <th>chol</th>\n",
              "      <th>fbs</th>\n",
              "      <th>restecg</th>\n",
              "      <th>thallach</th>\n",
              "      <th>exng</th>\n",
              "      <th>caa</th>\n",
              "    </tr>\n",
              "  </thead>\n",
              "  <tbody>\n",
              "    <tr>\n",
              "      <th>0</th>\n",
              "      <td>0.952197</td>\n",
              "      <td>0.681005</td>\n",
              "      <td>1.973123</td>\n",
              "      <td>0.763956</td>\n",
              "      <td>-0.256334</td>\n",
              "      <td>2.394438</td>\n",
              "      <td>-1.005832</td>\n",
              "      <td>0.015443</td>\n",
              "      <td>-0.696631</td>\n",
              "      <td>-0.714429</td>\n",
              "    </tr>\n",
              "    <tr>\n",
              "      <th>1</th>\n",
              "      <td>-1.915313</td>\n",
              "      <td>0.681005</td>\n",
              "      <td>1.002577</td>\n",
              "      <td>-0.092738</td>\n",
              "      <td>0.072199</td>\n",
              "      <td>-0.417635</td>\n",
              "      <td>0.898962</td>\n",
              "      <td>1.633471</td>\n",
              "      <td>-0.696631</td>\n",
              "      <td>-0.714429</td>\n",
              "    </tr>\n",
              "    <tr>\n",
              "      <th>2</th>\n",
              "      <td>-1.474158</td>\n",
              "      <td>-1.468418</td>\n",
              "      <td>0.032031</td>\n",
              "      <td>-0.092738</td>\n",
              "      <td>-0.816773</td>\n",
              "      <td>-0.417635</td>\n",
              "      <td>-1.005832</td>\n",
              "      <td>0.977514</td>\n",
              "      <td>-0.696631</td>\n",
              "      <td>-0.714429</td>\n",
              "    </tr>\n",
              "    <tr>\n",
              "      <th>3</th>\n",
              "      <td>0.180175</td>\n",
              "      <td>0.681005</td>\n",
              "      <td>0.032031</td>\n",
              "      <td>-0.663867</td>\n",
              "      <td>-0.198357</td>\n",
              "      <td>-0.417635</td>\n",
              "      <td>0.898962</td>\n",
              "      <td>1.239897</td>\n",
              "      <td>-0.696631</td>\n",
              "      <td>-0.714429</td>\n",
              "    </tr>\n",
              "    <tr>\n",
              "      <th>4</th>\n",
              "      <td>0.290464</td>\n",
              "      <td>-1.468418</td>\n",
              "      <td>-0.938515</td>\n",
              "      <td>-0.663867</td>\n",
              "      <td>2.082050</td>\n",
              "      <td>-0.417635</td>\n",
              "      <td>0.898962</td>\n",
              "      <td>0.583939</td>\n",
              "      <td>1.435481</td>\n",
              "      <td>-0.714429</td>\n",
              "    </tr>\n",
              "    <tr>\n",
              "      <th>...</th>\n",
              "      <td>...</td>\n",
              "      <td>...</td>\n",
              "      <td>...</td>\n",
              "      <td>...</td>\n",
              "      <td>...</td>\n",
              "      <td>...</td>\n",
              "      <td>...</td>\n",
              "      <td>...</td>\n",
              "      <td>...</td>\n",
              "      <td>...</td>\n",
              "    </tr>\n",
              "    <tr>\n",
              "      <th>298</th>\n",
              "      <td>0.290464</td>\n",
              "      <td>-1.468418</td>\n",
              "      <td>-0.938515</td>\n",
              "      <td>0.478391</td>\n",
              "      <td>-0.101730</td>\n",
              "      <td>-0.417635</td>\n",
              "      <td>0.898962</td>\n",
              "      <td>-1.165281</td>\n",
              "      <td>1.435481</td>\n",
              "      <td>-0.714429</td>\n",
              "    </tr>\n",
              "    <tr>\n",
              "      <th>299</th>\n",
              "      <td>-1.033002</td>\n",
              "      <td>0.681005</td>\n",
              "      <td>1.973123</td>\n",
              "      <td>-1.234996</td>\n",
              "      <td>0.342756</td>\n",
              "      <td>-0.417635</td>\n",
              "      <td>0.898962</td>\n",
              "      <td>-0.771706</td>\n",
              "      <td>-0.696631</td>\n",
              "      <td>-0.714429</td>\n",
              "    </tr>\n",
              "    <tr>\n",
              "      <th>300</th>\n",
              "      <td>1.503641</td>\n",
              "      <td>0.681005</td>\n",
              "      <td>-0.938515</td>\n",
              "      <td>0.706843</td>\n",
              "      <td>-1.029353</td>\n",
              "      <td>2.394438</td>\n",
              "      <td>0.898962</td>\n",
              "      <td>-0.378132</td>\n",
              "      <td>-0.696631</td>\n",
              "      <td>1.244593</td>\n",
              "    </tr>\n",
              "    <tr>\n",
              "      <th>301</th>\n",
              "      <td>0.290464</td>\n",
              "      <td>0.681005</td>\n",
              "      <td>-0.938515</td>\n",
              "      <td>-0.092738</td>\n",
              "      <td>-2.227533</td>\n",
              "      <td>-0.417635</td>\n",
              "      <td>0.898962</td>\n",
              "      <td>-1.515125</td>\n",
              "      <td>1.435481</td>\n",
              "      <td>0.265082</td>\n",
              "    </tr>\n",
              "    <tr>\n",
              "      <th>302</th>\n",
              "      <td>0.290464</td>\n",
              "      <td>-1.468418</td>\n",
              "      <td>0.032031</td>\n",
              "      <td>-0.092738</td>\n",
              "      <td>-0.198357</td>\n",
              "      <td>-0.417635</td>\n",
              "      <td>-1.005832</td>\n",
              "      <td>1.064975</td>\n",
              "      <td>-0.696631</td>\n",
              "      <td>0.265082</td>\n",
              "    </tr>\n",
              "  </tbody>\n",
              "</table>\n",
              "<p>303 rows × 10 columns</p>\n",
              "</div>"
            ],
            "text/plain": [
              "          age       sex        cp    trtbps      chol       fbs   restecg  \\\n",
              "0    0.952197  0.681005  1.973123  0.763956 -0.256334  2.394438 -1.005832   \n",
              "1   -1.915313  0.681005  1.002577 -0.092738  0.072199 -0.417635  0.898962   \n",
              "2   -1.474158 -1.468418  0.032031 -0.092738 -0.816773 -0.417635 -1.005832   \n",
              "3    0.180175  0.681005  0.032031 -0.663867 -0.198357 -0.417635  0.898962   \n",
              "4    0.290464 -1.468418 -0.938515 -0.663867  2.082050 -0.417635  0.898962   \n",
              "..        ...       ...       ...       ...       ...       ...       ...   \n",
              "298  0.290464 -1.468418 -0.938515  0.478391 -0.101730 -0.417635  0.898962   \n",
              "299 -1.033002  0.681005  1.973123 -1.234996  0.342756 -0.417635  0.898962   \n",
              "300  1.503641  0.681005 -0.938515  0.706843 -1.029353  2.394438  0.898962   \n",
              "301  0.290464  0.681005 -0.938515 -0.092738 -2.227533 -0.417635  0.898962   \n",
              "302  0.290464 -1.468418  0.032031 -0.092738 -0.198357 -0.417635 -1.005832   \n",
              "\n",
              "     thallach      exng       caa  \n",
              "0    0.015443 -0.696631 -0.714429  \n",
              "1    1.633471 -0.696631 -0.714429  \n",
              "2    0.977514 -0.696631 -0.714429  \n",
              "3    1.239897 -0.696631 -0.714429  \n",
              "4    0.583939  1.435481 -0.714429  \n",
              "..        ...       ...       ...  \n",
              "298 -1.165281  1.435481 -0.714429  \n",
              "299 -0.771706 -0.696631 -0.714429  \n",
              "300 -0.378132 -0.696631  1.244593  \n",
              "301 -1.515125  1.435481  0.265082  \n",
              "302  1.064975 -0.696631  0.265082  \n",
              "\n",
              "[303 rows x 10 columns]"
            ]
          },
          "execution_count": 22,
          "metadata": {},
          "output_type": "execute_result"
        }
      ],
      "source": [
        "x=df.iloc[:,:-1]\n",
        "x"
      ]
    },
    {
      "cell_type": "code",
      "execution_count": null,
      "id": "5659b67d",
      "metadata": {
        "id": "5659b67d"
      },
      "outputs": [],
      "source": [
        "y=df.iloc[:,-1:]"
      ]
    },
    {
      "cell_type": "code",
      "execution_count": null,
      "id": "723a217a",
      "metadata": {
        "id": "723a217a",
        "outputId": "88b64f97-be0e-4276-9120-b1bb30f24ec0"
      },
      "outputs": [
        {
          "data": {
            "text/html": [
              "<div>\n",
              "<style scoped>\n",
              "    .dataframe tbody tr th:only-of-type {\n",
              "        vertical-align: middle;\n",
              "    }\n",
              "\n",
              "    .dataframe tbody tr th {\n",
              "        vertical-align: top;\n",
              "    }\n",
              "\n",
              "    .dataframe thead th {\n",
              "        text-align: right;\n",
              "    }\n",
              "</style>\n",
              "<table border=\"1\" class=\"dataframe\">\n",
              "  <thead>\n",
              "    <tr style=\"text-align: right;\">\n",
              "      <th></th>\n",
              "      <th>output</th>\n",
              "    </tr>\n",
              "  </thead>\n",
              "  <tbody>\n",
              "    <tr>\n",
              "      <th>0</th>\n",
              "      <td>0.914529</td>\n",
              "    </tr>\n",
              "    <tr>\n",
              "      <th>1</th>\n",
              "      <td>0.914529</td>\n",
              "    </tr>\n",
              "    <tr>\n",
              "      <th>2</th>\n",
              "      <td>0.914529</td>\n",
              "    </tr>\n",
              "    <tr>\n",
              "      <th>3</th>\n",
              "      <td>0.914529</td>\n",
              "    </tr>\n",
              "    <tr>\n",
              "      <th>4</th>\n",
              "      <td>0.914529</td>\n",
              "    </tr>\n",
              "    <tr>\n",
              "      <th>...</th>\n",
              "      <td>...</td>\n",
              "    </tr>\n",
              "    <tr>\n",
              "      <th>298</th>\n",
              "      <td>-1.093459</td>\n",
              "    </tr>\n",
              "    <tr>\n",
              "      <th>299</th>\n",
              "      <td>-1.093459</td>\n",
              "    </tr>\n",
              "    <tr>\n",
              "      <th>300</th>\n",
              "      <td>-1.093459</td>\n",
              "    </tr>\n",
              "    <tr>\n",
              "      <th>301</th>\n",
              "      <td>-1.093459</td>\n",
              "    </tr>\n",
              "    <tr>\n",
              "      <th>302</th>\n",
              "      <td>-1.093459</td>\n",
              "    </tr>\n",
              "  </tbody>\n",
              "</table>\n",
              "<p>303 rows × 1 columns</p>\n",
              "</div>"
            ],
            "text/plain": [
              "       output\n",
              "0    0.914529\n",
              "1    0.914529\n",
              "2    0.914529\n",
              "3    0.914529\n",
              "4    0.914529\n",
              "..        ...\n",
              "298 -1.093459\n",
              "299 -1.093459\n",
              "300 -1.093459\n",
              "301 -1.093459\n",
              "302 -1.093459\n",
              "\n",
              "[303 rows x 1 columns]"
            ]
          },
          "execution_count": 24,
          "metadata": {},
          "output_type": "execute_result"
        }
      ],
      "source": [
        "y"
      ]
    },
    {
      "cell_type": "markdown",
      "id": "9a3704da",
      "metadata": {
        "id": "9a3704da"
      },
      "source": [
        "## Modelagem"
      ]
    },
    {
      "cell_type": "markdown",
      "id": "f4a998f6",
      "metadata": {
        "id": "f4a998f6"
      },
      "source": [
        "**Separando os dados entre treino e teste**"
      ]
    },
    {
      "cell_type": "code",
      "execution_count": null,
      "id": "870599d5",
      "metadata": {
        "id": "870599d5"
      },
      "outputs": [],
      "source": [
        "from sklearn.model_selection import train_test_split\n",
        "X_train,X_test,y_train,y_test=train_test_split(x,y,test_size=0.3,random_state=101)"
      ]
    },
    {
      "cell_type": "code",
      "execution_count": null,
      "id": "5f7c7b0a",
      "metadata": {
        "id": "5f7c7b0a"
      },
      "outputs": [],
      "source": [
        "## regressão logistica.\n",
        "from sklearn.linear_model import LogisticRegression\n",
        "from sklearn.preprocessing import LabelEncoder\n",
        "from sklearn.metrics import accuracy_score\n",
        "from sklearn.metrics import confusion_matrix\n",
        "\n"
      ]
    },
    {
      "cell_type": "markdown",
      "id": "254f1fff",
      "metadata": {
        "id": "254f1fff"
      },
      "source": [
        "**Regressão Logistica**"
      ]
    },
    {
      "cell_type": "code",
      "execution_count": null,
      "id": "8d76d1b3",
      "metadata": {
        "id": "8d76d1b3"
      },
      "outputs": [],
      "source": [
        "#aplicando o label encoder \n",
        "lbl=LabelEncoder()"
      ]
    },
    {
      "cell_type": "code",
      "execution_count": null,
      "id": "780c73d5",
      "metadata": {
        "id": "780c73d5",
        "outputId": "8352e386-947e-4068-f982-de3629fb32f9"
      },
      "outputs": [
        {
          "name": "stderr",
          "output_type": "stream",
          "text": [
            "C:\\Users\\marco\\anaconda3\\lib\\site-packages\\sklearn\\utils\\validation.py:63: DataConversionWarning: A column-vector y was passed when a 1d array was expected. Please change the shape of y to (n_samples, ), for example using ravel().\n",
            "  return f(*args, **kwargs)\n"
          ]
        }
      ],
      "source": [
        "encoder_y=lbl.fit_transform(y_train)"
      ]
    },
    {
      "cell_type": "code",
      "execution_count": null,
      "id": "413ddbac",
      "metadata": {
        "id": "413ddbac"
      },
      "outputs": [],
      "source": [
        "logreg=LogisticRegression()"
      ]
    },
    {
      "cell_type": "code",
      "execution_count": null,
      "id": "16188a77",
      "metadata": {
        "id": "16188a77",
        "outputId": "f05725a6-cf7f-4756-a0a9-e449021ff92a"
      },
      "outputs": [
        {
          "data": {
            "text/plain": [
              "LogisticRegression()"
            ]
          },
          "execution_count": 30,
          "metadata": {},
          "output_type": "execute_result"
        }
      ],
      "source": [
        "logreg.fit(X_train,encoder_y)"
      ]
    },
    {
      "cell_type": "code",
      "execution_count": null,
      "id": "a9a7a266",
      "metadata": {
        "id": "a9a7a266"
      },
      "outputs": [],
      "source": [
        ""
      ]
    },
    {
      "cell_type": "code",
      "execution_count": null,
      "id": "ef58a645",
      "metadata": {
        "id": "ef58a645",
        "outputId": "36e44212-f31e-44bb-92ae-e840921783ce"
      },
      "outputs": [
        {
          "name": "stderr",
          "output_type": "stream",
          "text": [
            "C:\\Users\\marco\\anaconda3\\lib\\site-packages\\sklearn\\utils\\validation.py:63: DataConversionWarning: A column-vector y was passed when a 1d array was expected. Please change the shape of y to (n_samples, ), for example using ravel().\n",
            "  return f(*args, **kwargs)\n"
          ]
        }
      ],
      "source": [
        "encoder_ytest=lbl.fit_transform(y_test)"
      ]
    },
    {
      "cell_type": "code",
      "execution_count": null,
      "id": "f69a7425",
      "metadata": {
        "id": "f69a7425"
      },
      "outputs": [],
      "source": [
        "y_pred1=logreg.predict(X_test)\n",
        "lr_confus_matrix=confusion_matrix(encoder_ytest,y_pred1)\n",
        "lr_acc_score=accuracy_score(encoder_ytest,y_pred1)"
      ]
    },
    {
      "cell_type": "code",
      "execution_count": null,
      "id": "23c51220",
      "metadata": {
        "id": "23c51220",
        "outputId": "34ee184a-d9e8-4698-cd39-dd7e49d4ef1d"
      },
      "outputs": [
        {
          "data": {
            "text/plain": [
              "array([[35,  9],\n",
              "       [ 4, 43]], dtype=int64)"
            ]
          },
          "execution_count": 89,
          "metadata": {},
          "output_type": "execute_result"
        }
      ],
      "source": [
        "lr_confus_matrix"
      ]
    },
    {
      "cell_type": "code",
      "execution_count": null,
      "id": "061d36dc",
      "metadata": {
        "id": "061d36dc",
        "outputId": "f2425b72-e843-426a-ab40-f7dbf6443dfd"
      },
      "outputs": [
        {
          "name": "stdout",
          "output_type": "stream",
          "text": [
            "85.71428571428571 %\n"
          ]
        }
      ],
      "source": [
        "print(lr_acc_score*100,'%')"
      ]
    },
    {
      "cell_type": "markdown",
      "id": "a18c7403",
      "metadata": {
        "id": "a18c7403"
      },
      "source": [
        "Após feita todas os procedimentos, podemos ver que nosso modelo de regressão logistica teve um acerto de 85%"
      ]
    },
    {
      "cell_type": "markdown",
      "id": "0e37d354",
      "metadata": {
        "id": "0e37d354"
      },
      "source": [
        "**Arvore de decisão**"
      ]
    },
    {
      "cell_type": "code",
      "execution_count": null,
      "id": "439e01db",
      "metadata": {
        "id": "439e01db"
      },
      "outputs": [],
      "source": [
        "from sklearn.tree import DecisionTreeClassifier"
      ]
    },
    {
      "cell_type": "code",
      "execution_count": null,
      "id": "47b8a84a",
      "metadata": {
        "id": "47b8a84a"
      },
      "outputs": [],
      "source": [
        "tree=DecisionTreeClassifier()"
      ]
    },
    {
      "cell_type": "code",
      "execution_count": null,
      "id": "da469764",
      "metadata": {
        "id": "da469764",
        "outputId": "c289ed00-3ef7-414f-9f39-1e1ef790f0c4"
      },
      "outputs": [
        {
          "data": {
            "text/plain": [
              "DecisionTreeClassifier()"
            ]
          },
          "execution_count": 35,
          "metadata": {},
          "output_type": "execute_result"
        }
      ],
      "source": [
        "#treinando o modelo\n",
        "tree.fit(X_train,encoder_y)"
      ]
    },
    {
      "cell_type": "code",
      "execution_count": null,
      "id": "dca8baaa",
      "metadata": {
        "id": "dca8baaa"
      },
      "outputs": [],
      "source": [
        "ypred2=tree.predict(X_test)"
      ]
    },
    {
      "cell_type": "code",
      "execution_count": null,
      "id": "2578ed3d",
      "metadata": {
        "id": "2578ed3d"
      },
      "outputs": [],
      "source": [
        "#criando a arvore de decisão e a accuracia \n",
        "tree_conf=confusion_matrix(encoder_ytest,ypred2)\n",
        "tree_acc=accuracy_score(encoder_ytest,ypred2)"
      ]
    },
    {
      "cell_type": "code",
      "execution_count": null,
      "id": "ff2f4606",
      "metadata": {
        "id": "ff2f4606",
        "outputId": "8dfd1a21-ceb6-4f81-8910-7d3a84307ec6"
      },
      "outputs": [
        {
          "data": {
            "text/plain": [
              "array([[26, 18],\n",
              "       [ 9, 38]], dtype=int64)"
            ]
          },
          "execution_count": 43,
          "metadata": {},
          "output_type": "execute_result"
        }
      ],
      "source": [
        "tree_conf"
      ]
    },
    {
      "cell_type": "code",
      "execution_count": null,
      "id": "fa8cb086",
      "metadata": {
        "id": "fa8cb086",
        "outputId": "20636f0a-fa53-4429-a3f2-29823e84ae67"
      },
      "outputs": [
        {
          "name": "stdout",
          "output_type": "stream",
          "text": [
            "70.32967032967034 %\n"
          ]
        }
      ],
      "source": [
        "print(tree_acc*100,'%')"
      ]
    },
    {
      "cell_type": "markdown",
      "id": "adb29190",
      "metadata": {
        "id": "adb29190"
      },
      "source": [
        "Ja o modelo DecisionTree performou cerca de 70%"
      ]
    },
    {
      "cell_type": "markdown",
      "id": "7992cf44",
      "metadata": {
        "id": "7992cf44"
      },
      "source": [
        "**Random Forest**"
      ]
    },
    {
      "cell_type": "code",
      "execution_count": null,
      "id": "1f7eb180",
      "metadata": {
        "id": "1f7eb180"
      },
      "outputs": [],
      "source": [
        "from sklearn.ensemble import RandomForestClassifier"
      ]
    },
    {
      "cell_type": "code",
      "execution_count": null,
      "id": "a5eb2e76",
      "metadata": {
        "id": "a5eb2e76"
      },
      "outputs": [],
      "source": [
        "rf=RandomForestClassifier()"
      ]
    },
    {
      "cell_type": "code",
      "execution_count": null,
      "id": "3953a880",
      "metadata": {
        "id": "3953a880",
        "outputId": "451921f6-9335-4c8c-eabf-662c341b5c75"
      },
      "outputs": [
        {
          "data": {
            "text/plain": [
              "RandomForestClassifier()"
            ]
          },
          "execution_count": 49,
          "metadata": {},
          "output_type": "execute_result"
        }
      ],
      "source": [
        "rf.fit(X_train,encoder_y)"
      ]
    },
    {
      "cell_type": "code",
      "execution_count": null,
      "id": "456af772",
      "metadata": {
        "id": "456af772"
      },
      "outputs": [],
      "source": [
        "ypred3=rf.predict(X_test)"
      ]
    },
    {
      "cell_type": "code",
      "execution_count": null,
      "id": "53476071",
      "metadata": {
        "id": "53476071"
      },
      "outputs": [],
      "source": [
        "rf_conf_matrix=confusion_matrix(encoder_ytest,ypred3)\n",
        "rf_acc = accuracy_score(encoder_ytest,ypred3)"
      ]
    },
    {
      "cell_type": "code",
      "execution_count": null,
      "id": "d50c6757",
      "metadata": {
        "id": "d50c6757",
        "outputId": "2ad3b99e-f09b-4c15-f404-f556491faf83"
      },
      "outputs": [
        {
          "data": {
            "text/plain": [
              "array([[32, 12],\n",
              "       [ 6, 41]], dtype=int64)"
            ]
          },
          "execution_count": 54,
          "metadata": {},
          "output_type": "execute_result"
        }
      ],
      "source": [
        "rf_conf_matrix"
      ]
    },
    {
      "cell_type": "code",
      "execution_count": null,
      "id": "6c6e8f37",
      "metadata": {
        "id": "6c6e8f37",
        "outputId": "913fcbdf-c778-4c30-ccf7-5b2bb0a465cf"
      },
      "outputs": [
        {
          "name": "stdout",
          "output_type": "stream",
          "text": [
            "80.21978021978022 %\n"
          ]
        }
      ],
      "source": [
        "print(rf_acc*100,'%')"
      ]
    },
    {
      "cell_type": "markdown",
      "id": "cfda896e",
      "metadata": {
        "id": "cfda896e"
      },
      "source": [
        "Ja o modelo random forest acertou cerca de 80%"
      ]
    },
    {
      "cell_type": "markdown",
      "id": "e9230b76",
      "metadata": {
        "id": "e9230b76"
      },
      "source": [
        "**KNN**"
      ]
    },
    {
      "cell_type": "code",
      "execution_count": null,
      "id": "7d8f0c8c",
      "metadata": {
        "id": "7d8f0c8c"
      },
      "outputs": [],
      "source": [
        "from sklearn.neighbors import KNeighborsClassifier"
      ]
    },
    {
      "cell_type": "code",
      "execution_count": null,
      "id": "dec2afca",
      "metadata": {
        "id": "dec2afca"
      },
      "outputs": [],
      "source": [
        "error_rate= []\n",
        "for i in range(1,40):\n",
        "    knn= KNeighborsClassifier(n_neighbors=i)\n",
        "    knn.fit(X_train,encoder_y)\n",
        "    pred= knn.predict(X_test)\n",
        "    error_rate.append(np.mean(pred != encoder_ytest))"
      ]
    },
    {
      "cell_type": "code",
      "execution_count": null,
      "id": "9e2c2a66",
      "metadata": {
        "scrolled": true,
        "id": "9e2c2a66",
        "outputId": "338ee4a3-53c8-47ee-91c9-8f41f71973de"
      },
      "outputs": [
        {
          "data": {
            "image/png": "[encoded data removed]",
            "text/plain": [
              "<Figure size 720x432 with 1 Axes>"
            ]
          },
          "metadata": {
            "needs_background": "light"
          },
          "output_type": "display_data"
        }
      ],
      "source": [
        "plt.figure(figsize=(10,6))\n",
        "plt.plot(range(1,40),error_rate,color='blue',linestyle='dashed',marker='o',\n",
        "        markerfacecolor='red',markersize=10)\n",
        "plt.xlabel('x_value')\n",
        "plt.ylabel('Error Rate')\n",
        "plt.title('Checkando o valor correto de k')\n",
        "plt.show()"
      ]
    },
    {
      "cell_type": "markdown",
      "id": "c8dd32ba",
      "metadata": {
        "id": "c8dd32ba"
      },
      "source": [
        "Como podemos notar, temos que selecionar k=12  que ira nos dar  a melhor taxa de erro "
      ]
    },
    {
      "cell_type": "code",
      "execution_count": null,
      "id": "3371f872",
      "metadata": {
        "id": "3371f872"
      },
      "outputs": [],
      "source": [
        "knn=KNeighborsClassifier(n_neighbors=12)\n",
        "knn.fit(X_train,encoder_y)\n",
        "ypred4=knn.predict(X_test)"
      ]
    },
    {
      "cell_type": "code",
      "execution_count": null,
      "id": "59e056e1",
      "metadata": {
        "id": "59e056e1"
      },
      "outputs": [],
      "source": [
        "knn_conf_matrix=confusion_matrix(encoder_ytest,ypred4)\n",
        "knn_acc_score=accuracy_score(encoder_ytest,ypred4)\n"
      ]
    },
    {
      "cell_type": "code",
      "execution_count": null,
      "id": "2f03be47",
      "metadata": {
        "id": "2f03be47",
        "outputId": "eeb69634-ab34-4c18-dfcb-8d12e47cffe5"
      },
      "outputs": [
        {
          "data": {
            "text/plain": [
              "array([[35,  9],\n",
              "       [ 5, 42]], dtype=int64)"
            ]
          },
          "execution_count": 75,
          "metadata": {},
          "output_type": "execute_result"
        }
      ],
      "source": [
        "knn_conf_matrix"
      ]
    },
    {
      "cell_type": "code",
      "execution_count": null,
      "id": "1b53eaf9",
      "metadata": {
        "id": "1b53eaf9",
        "outputId": "b810c2e7-1d13-4d5c-dd47-adce67ff0bea"
      },
      "outputs": [
        {
          "name": "stdout",
          "output_type": "stream",
          "text": [
            "84.61538461538461 %\n"
          ]
        }
      ],
      "source": [
        "print(knn_acc_score*100,'%')"
      ]
    },
    {
      "cell_type": "markdown",
      "id": "3b3d6a94",
      "metadata": {
        "id": "3b3d6a94"
      },
      "source": [
        "Como podemos notar o modelo KNN, nos deu uma accuracia de 85% o que é algo bom para nossos parametros.\n"
      ]
    },
    {
      "cell_type": "markdown",
      "id": "dfc28b69",
      "metadata": {
        "id": "dfc28b69"
      },
      "source": [
        "**SVM**"
      ]
    },
    {
      "cell_type": "code",
      "execution_count": null,
      "id": "bc7c157a",
      "metadata": {
        "id": "bc7c157a"
      },
      "outputs": [],
      "source": [
        "from sklearn import svm "
      ]
    },
    {
      "cell_type": "code",
      "execution_count": null,
      "id": "a4f7364c",
      "metadata": {
        "id": "a4f7364c"
      },
      "outputs": [],
      "source": [
        "svm=svm.SVC()"
      ]
    },
    {
      "cell_type": "code",
      "execution_count": null,
      "id": "370e92af",
      "metadata": {
        "id": "370e92af",
        "outputId": "d806fe3b-5f94-4cc8-f284-308c4f373e07"
      },
      "outputs": [
        {
          "data": {
            "text/plain": [
              "SVC()"
            ]
          },
          "execution_count": 80,
          "metadata": {},
          "output_type": "execute_result"
        }
      ],
      "source": [
        "svm.fit(X_train,encoder_y)"
      ]
    },
    {
      "cell_type": "code",
      "execution_count": null,
      "id": "3d59353c",
      "metadata": {
        "id": "3d59353c"
      },
      "outputs": [],
      "source": [
        "y_pred5= svm.predict(X_test)"
      ]
    },
    {
      "cell_type": "code",
      "execution_count": null,
      "id": "231d8b20",
      "metadata": {
        "id": "231d8b20"
      },
      "outputs": [],
      "source": [
        "svm_conf_matrix=confusion_matrix(encoder_ytest,y_pred5)\n",
        "svm_acc_score=accuracy_score(encoder_ytest,y_pred5)"
      ]
    },
    {
      "cell_type": "code",
      "execution_count": null,
      "id": "bbf6288d",
      "metadata": {
        "id": "bbf6288d",
        "outputId": "dd22af69-ec07-4f0c-d3c2-31fec6d2cffc"
      },
      "outputs": [
        {
          "name": "stdout",
          "output_type": "stream",
          "text": [
            "80.21978021978022 %\n"
          ]
        }
      ],
      "source": [
        "svm_conf_matrix\n",
        "print(svm_acc_score*100,'%')"
      ]
    },
    {
      "cell_type": "markdown",
      "id": "b089156f",
      "metadata": {
        "id": "b089156f"
      },
      "source": [
        "No modelo SVM ouve uma accuracia de 80%"
      ]
    },
    {
      "cell_type": "markdown",
      "id": "12fb83d9",
      "metadata": {
        "id": "12fb83d9"
      },
      "source": [
        "## Verificando qual modelo obteve a melhor performance entre todos "
      ]
    },
    {
      "cell_type": "code",
      "execution_count": null,
      "id": "765f912e",
      "metadata": {
        "id": "765f912e"
      },
      "outputs": [],
      "source": [
        "model_acc= pd.DataFrame({'Model' : ['Logistic Regression','Decision Tree','Random Forest','K Nearest Neighbor','SVM'],'Accuracy' : [lr_acc_score*100,tree_acc*100,rf_acc*100,knn_acc_score*100,svm_acc_score*100]})"
      ]
    },
    {
      "cell_type": "code",
      "execution_count": null,
      "id": "df158094",
      "metadata": {
        "id": "df158094"
      },
      "outputs": [],
      "source": [
        "model_acc = model_acc.sort_values(by=['Accuracy'],ascending=False)"
      ]
    },
    {
      "cell_type": "code",
      "execution_count": null,
      "id": "6fd4cc1f",
      "metadata": {
        "id": "6fd4cc1f",
        "outputId": "efffe5d1-9631-4d85-be91-2402d018d962"
      },
      "outputs": [
        {
          "data": {
            "text/html": [
              "<div>\n",
              "<style scoped>\n",
              "    .dataframe tbody tr th:only-of-type {\n",
              "        vertical-align: middle;\n",
              "    }\n",
              "\n",
              "    .dataframe tbody tr th {\n",
              "        vertical-align: top;\n",
              "    }\n",
              "\n",
              "    .dataframe thead th {\n",
              "        text-align: right;\n",
              "    }\n",
              "</style>\n",
              "<table border=\"1\" class=\"dataframe\">\n",
              "  <thead>\n",
              "    <tr style=\"text-align: right;\">\n",
              "      <th></th>\n",
              "      <th>Model</th>\n",
              "      <th>Accuracy</th>\n",
              "    </tr>\n",
              "  </thead>\n",
              "  <tbody>\n",
              "    <tr>\n",
              "      <th>0</th>\n",
              "      <td>Logistic Regression</td>\n",
              "      <td>85.714286</td>\n",
              "    </tr>\n",
              "    <tr>\n",
              "      <th>3</th>\n",
              "      <td>K Nearest Neighbor</td>\n",
              "      <td>84.615385</td>\n",
              "    </tr>\n",
              "    <tr>\n",
              "      <th>2</th>\n",
              "      <td>Random Forest</td>\n",
              "      <td>80.219780</td>\n",
              "    </tr>\n",
              "    <tr>\n",
              "      <th>4</th>\n",
              "      <td>SVM</td>\n",
              "      <td>80.219780</td>\n",
              "    </tr>\n",
              "    <tr>\n",
              "      <th>1</th>\n",
              "      <td>Decision Tree</td>\n",
              "      <td>70.329670</td>\n",
              "    </tr>\n",
              "  </tbody>\n",
              "</table>\n",
              "</div>"
            ],
            "text/plain": [
              "                 Model   Accuracy\n",
              "0  Logistic Regression  85.714286\n",
              "3   K Nearest Neighbor  84.615385\n",
              "2        Random Forest  80.219780\n",
              "4                  SVM  80.219780\n",
              "1        Decision Tree  70.329670"
            ]
          },
          "execution_count": 93,
          "metadata": {},
          "output_type": "execute_result"
        }
      ],
      "source": [
        "model_acc"
      ]
    },
    {
      "cell_type": "markdown",
      "id": "dcabf1e0",
      "metadata": {
        "id": "dcabf1e0"
      },
      "source": [
        "Como podemos verificar a Regressão logisitca foi o modelo que melhor performou dentre todos os modelos, obtendo uma accuracia de 85%\n"
      ]
    }
  ],
  "metadata": {
    "kernelspec": {
      "display_name": "Python 3 (ipykernel)",
      "language": "python",
      "name": "python3"
    },
    "language_info": {
      "codemirror_mode": {
        "name": "ipython",
        "version": 3
      },
      "file_extension": ".py",
      "mimetype": "text/x-python",
      "name": "python",
      "nbconvert_exporter": "python",
      "pygments_lexer": "ipython3",
      "version": "3.9.7"
    },
    "colab": {
      "name": "Previsão de ataque cardiaco.ipynb",
      "provenance": [],
      "include_colab_link": true
    }
  },
  "nbformat": 4,
  "nbformat_minor": 5
}